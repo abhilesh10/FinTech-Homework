{
 "cells": [
  {
   "cell_type": "code",
   "execution_count": 25,
   "id": "e1319745-3b8c-41d3-971c-c05ca7b2d08a",
   "metadata": {},
   "outputs": [
    {
     "name": "stdout",
     "output_type": "stream",
     "text": [
      "Financial Analysis\n",
      "------------------\n",
      "Total Months: 86\n",
      "Total:$ 38382578\n",
      "Average Change is: $-2315.12\n",
      "Greatest Increase in Profits: Feb-2012 ($1926159)\n",
      "Greatest Decrease in Profits: Sep-2013 ($-2196167)\n"
     ]
    }
   ],
   "source": [
    "#Import the pathlib and csv library\n",
    "from pathlib import Path\n",
    "import csv\n",
    "\n",
    "#Set the file path\n",
    "budget_data_csv=Path(\"../../Resources/budget_data.csv\")\n",
    "\n",
    "#Variables\n",
    "total_months = []\n",
    "total_profits = []\n",
    "profit_changes = 0\n",
    "monthly_changes = []\n",
    "revenue_change = []\n",
    "previous_value = 0\n",
    "\n",
    "#Open CSV file\n",
    "with open(\"./Resources/budget_data.csv\",'r') as file:\n",
    "    csvreader = csv.reader(file, delimiter=\",\")\n",
    "    csv_header = next(csvreader)\n",
    "    \n",
    "    #Total No. of Months\n",
    "    for row in csvreader:\n",
    "        total_months.append(row[0])\n",
    "        total_profits.append(row[1])\n",
    "    \n",
    "    #Total Revenue in Profit/Loss\n",
    "    total_profits=[int(x) for x in total_profits] \n",
    "    total_profits_sum=sum(total_profits) \n",
    "    \n",
    "#Average Changes in Profit/Loss\n",
    "i = 0\n",
    "for i in range(len(total_profits) - 1):\n",
    "    profit_loss = int(total_profits[i+1]) - int(total_profits[i])\n",
    "    revenue_change.append(profit_loss)\n",
    "    Total = sum(revenue_change)\n",
    "    monthly_change = round(Total/ len(revenue_change),2)\n",
    "\n",
    "#Greatest Increase in Profit/Loss\n",
    "max_number = max(revenue_change)\n",
    "x = revenue_change.index(max_number)\n",
    "month_increase = total_months[x+1]\n",
    "\n",
    "#Greatest Decrease in Profit/Loss\n",
    "min_number = min(revenue_change)\n",
    "y = revenue_change.index(min_number)\n",
    "month_decrease = total_months[y+1]\n",
    "\n",
    "#Final Statements\n",
    "print(\"Financial Analysis\")\n",
    "print(\"------------------\")\n",
    "print(\"Total Months: \" + str(len(total_months)))\n",
    "print(\"Total:$ \" + str((total_profits_sum)))\n",
    "print(\"Average Change is: $\" + str(monthly_change))\n",
    "print(\"Greatest Increase in Profits: \" + str(month_increase) + \" ($\" + str(max_number) + \")\")\n",
    "print(\"Greatest Decrease in Profits: \" + str(month_decrease) + \" ($\" + str(min_number) + \")\")\n"
   ]
  },
  {
   "cell_type": "code",
   "execution_count": 33,
   "id": "77f93719-062a-4c48-b8ef-e560d440352c",
   "metadata": {},
   "outputs": [],
   "source": [
    "with open(\"financial_analysis.txt\", \"w\") as f:\n",
    "    f.write(\"Financial Analysis\\n\")\n",
    "    f.write(\"------------------\\n\")\n",
    "    f.write(\"Total Months:\" + str(len(total_months))+\"\\n\")\n",
    "    f.write(\"Total:$ \" + str((total_profits_sum))+\"\\n\")\n",
    "    f.write(\"Average Change is: \" + str(monthly_change)+\"\\n\")\n",
    "    f.write(\"Greatest Increase in Profits: \" + str(month_increase) + \" ($\" + str(max_number) + \")\\n\")\n",
    "    f.write(\"Greatest Decrease in Profits: \" + str(month_decrease) + \" ($\" + str(min_number) + \")\\n\")"
   ]
  }
 ],
 "metadata": {
  "kernelspec": {
   "display_name": "Python 3 (ipykernel)",
   "language": "python",
   "name": "python3"
  },
  "language_info": {
   "codemirror_mode": {
    "name": "ipython",
    "version": 3
   },
   "file_extension": ".py",
   "mimetype": "text/x-python",
   "name": "python",
   "nbconvert_exporter": "python",
   "pygments_lexer": "ipython3",
   "version": "3.9.12"
  }
 },
 "nbformat": 4,
 "nbformat_minor": 5
}
